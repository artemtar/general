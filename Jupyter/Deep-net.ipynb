{
 "cells": [
  {
   "cell_type": "code",
   "execution_count": 8,
   "metadata": {},
   "outputs": [
    {
     "name": "stdout",
     "output_type": "stream",
     "text": [
      "Extracting /tmp/data/train-images-idx3-ubyte.gz\n",
      "Extracting /tmp/data/train-labels-idx1-ubyte.gz\n",
      "Extracting /tmp/data/t10k-images-idx3-ubyte.gz\n",
      "Extracting /tmp/data/t10k-labels-idx1-ubyte.gz\n"
     ]
    }
   ],
   "source": [
    "import tensorflow as tf\n",
    "from tensorflow.examples.tutorials.mnist import input_data\n",
    "mnist = input_data.read_data_sets(\"/tmp/data/\", one_hot = True)"
   ]
  },
  {
   "cell_type": "markdown",
   "metadata": {},
   "source": [
    "design values of network"
   ]
  },
  {
   "cell_type": "code",
   "execution_count": 9,
   "metadata": {
    "collapsed": true
   },
   "outputs": [],
   "source": [
    "n_nodes_l1 = 500\n",
    "n_nodes_l2 = 500\n",
    "n_nodes_l3 = 500\n",
    "\n",
    "n_classes = 10\n",
    "batch_size = 100\n",
    "\n",
    "x = tf.placeholder('float', [None, 784])\n",
    "y = tf.placeholder('float')"
   ]
  },
  {
   "cell_type": "markdown",
   "metadata": {},
   "source": [
    "model"
   ]
  },
  {
   "cell_type": "code",
   "execution_count": 10,
   "metadata": {
    "collapsed": true
   },
   "outputs": [],
   "source": [
    "def deepWeb(data):\n",
    "    layer1 = {'weights': tf.Variable(tf.random_normal([784, n_nodes_l1])),\n",
    "              'biases': tf.Variable(tf.random_normal([n_nodes_l1]))}\n",
    "    layer2 = {'weights': tf.Variable(tf.random_normal([n_nodes_l1, n_nodes_l2])),\n",
    "              'biases': tf.Variable(tf.random_normal([n_nodes_l2]))}\n",
    "    layer3 = {'weights': tf.Variable(tf.random_normal([n_nodes_l2, n_nodes_l3])),\n",
    "              'biases': tf.Variable(tf.random_normal([n_nodes_l3]))}\n",
    "\n",
    "\n",
    "    layerOut = {'weights': tf.Variable(tf.random_normal([n_nodes_l3, n_classes])),\n",
    "            'biases': tf.Variable(tf.random_normal([n_classes]))}\n",
    "\n",
    "\n",
    "    #activation function\n",
    "    l1 = tf.add(tf.matmul(data, layer1['weights']), layer1['biases'])\n",
    "    l1 = tf.nn.relu(l1)\n",
    "    l2 = tf.add(tf.matmul(l1, layer2['weights']), layer2['biases'])\n",
    "    l2 = tf.nn.relu(l2)\n",
    "    l3 = tf.add(tf.matmul(l2, layer3['weights']), layer3['biases'])\n",
    "    l3 = tf.nn.relu(l3)\n",
    "\n",
    "    outl = tf.add(tf.matmul(l3, layerOut['weights']), layerOut['biases'])\n",
    "\n",
    "    # return output\n",
    "\n",
    "    return outl"
   ]
  },
  {
   "cell_type": "raw",
   "metadata": {},
   "source": [
    "training "
   ]
  },
  {
   "cell_type": "code",
   "execution_count": 14,
   "metadata": {
    "collapsed": true
   },
   "outputs": [],
   "source": [
    "def train(input):\n",
    "    prediction = deepWeb(input)\n",
    "    #how label is decided?\n",
    "    cost = tf.reduce_mean(tf.nn.softmax_cross_entropy_with_logits(logits=prediction, labels=y))\n",
    "    optimizer = tf.train.AdamOptimizer().minimize(cost)\n",
    "\n",
    "    n_epochs = 10\n",
    "    with tf.Session() as sess:\n",
    "        sess.run(tf.global_variables_initializer())\n",
    "\n",
    "        \n",
    "        for epoch in range(n_epochs):\n",
    "            epoch_cost = 0\n",
    "            for _ in range (int(mnist.train.num_examples/batch_size)):\n",
    "                #check whar is tranin next\n",
    "                epoch_data, epoch_lable = mnist.train.next_batch(batch_size)\n",
    "                #how come to current situation\n",
    "                _, c = sess.run([optimizer, cost], feed_dict={x: epoch_data, y: epoch_lable})\n",
    "                epoch_cost += c\n",
    "\n",
    "            print('Epoch', epoch + 1, 'out of', n_epochs, 'cost', epoch_cost)\n",
    "\n",
    "            correct = tf.equal(tf.argmax(prediction, 1), tf.argmax(y, 1))\n",
    "            accuracy = tf.reduce_mean(tf.cast(correct, \"float\"))\n",
    "            print(\"Accuracy \", accuracy.eval({x: mnist.test.images, y: mnist.test.labels}))"
   ]
  },
  {
   "cell_type": "raw",
   "metadata": {},
   "source": [
    "run the model"
   ]
  },
  {
   "cell_type": "code",
   "execution_count": 16,
   "metadata": {},
   "outputs": [
    {
     "name": "stdout",
     "output_type": "stream",
     "text": [
      "Epoch 1 out of 10 cost 2068192.70808\n",
      "Accuracy  0.8911\n",
      "Epoch 2 out of 10 cost 2520552.42079\n",
      "Accuracy  0.9233\n",
      "Epoch 3 out of 10 cost 2763680.35926\n",
      "Accuracy  0.9283\n",
      "Epoch 4 out of 10 cost 2909656.26728\n",
      "Accuracy  0.9385\n",
      "Epoch 5 out of 10 cost 3003452.47509\n",
      "Accuracy  0.9398\n",
      "Epoch 6 out of 10 cost 3062582.95981\n",
      "Accuracy  0.9443\n",
      "Epoch 7 out of 10 cost 3103882.53554\n",
      "Accuracy  0.9414\n",
      "Epoch 8 out of 10 cost 3133447.60414\n",
      "Accuracy  0.9488\n",
      "Epoch 9 out of 10 cost 3158461.91963\n",
      "Accuracy  0.9512\n",
      "Epoch 10 out of 10 cost 3179290.14206\n",
      "Accuracy  0.9509\n"
     ]
    }
   ],
   "source": [
    "train(x)"
   ]
  },
  {
   "cell_type": "code",
   "execution_count": 1,
   "metadata": {},
   "outputs": [],
   "source": [
    "#displaying output\n",
    "# from IPython.display import Image\n",
    "# Image(filename='./img/deepnet_out.png')"
   ]
  },
  {
   "cell_type": "code",
   "execution_count": 19,
   "metadata": {},
   "outputs": [
    {
     "name": "stdout",
     "output_type": "stream",
     "text": [
      "/bin/sh: 1: Syntax error: word unexpected (expecting \")\")\r\n"
     ]
    }
   ],
   "source": [
    "![title](img/deepnet_out.png)"
   ]
  }
 ],
 "metadata": {
  "kernelspec": {
   "display_name": "Python 3",
   "language": "python",
   "name": "python3"
  },
  "language_info": {
   "codemirror_mode": {
    "name": "ipython",
    "version": 3
   },
   "file_extension": ".py",
   "mimetype": "text/x-python",
   "name": "python",
   "nbconvert_exporter": "python",
   "pygments_lexer": "ipython3",
   "version": "3.6.3"
  }
 },
 "nbformat": 4,
 "nbformat_minor": 2
}
